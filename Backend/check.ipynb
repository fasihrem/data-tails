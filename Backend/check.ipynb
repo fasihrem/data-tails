{
 "cells": [
  {
   "cell_type": "code",
   "execution_count": 1,
   "id": "initial_id",
   "metadata": {
    "ExecuteTime": {
     "end_time": "2024-09-16T16:02:50.356504Z",
     "start_time": "2024-09-16T16:02:49.849397Z"
    },
    "collapsed": true
   },
   "outputs": [],
   "source": [
    "import pandas as pd"
   ]
  },
  {
   "cell_type": "code",
   "execution_count": 2,
   "id": "8658758f788eda7e",
   "metadata": {
    "ExecuteTime": {
     "end_time": "2024-09-16T16:02:50.591959Z",
     "start_time": "2024-09-16T16:02:50.358031Z"
    },
    "collapsed": false
   },
   "outputs": [
    {
     "data": {
      "text/html": [
       "<div>\n",
       "<style scoped>\n",
       "    .dataframe tbody tr th:only-of-type {\n",
       "        vertical-align: middle;\n",
       "    }\n",
       "\n",
       "    .dataframe tbody tr th {\n",
       "        vertical-align: top;\n",
       "    }\n",
       "\n",
       "    .dataframe thead th {\n",
       "        text-align: right;\n",
       "    }\n",
       "</style>\n",
       "<table border=\"1\" class=\"dataframe\">\n",
       "  <thead>\n",
       "    <tr style=\"text-align: right;\">\n",
       "      <th></th>\n",
       "      <th>Unnamed: 0</th>\n",
       "      <th>type</th>\n",
       "      <th>subReddit</th>\n",
       "      <th>postTitle</th>\n",
       "      <th>postDesc</th>\n",
       "      <th>postTime</th>\n",
       "      <th>authorName</th>\n",
       "      <th>noOfUpvotes</th>\n",
       "      <th>isNSFW</th>\n",
       "      <th>comments</th>\n",
       "      <th>noOfComments</th>\n",
       "      <th>imageUrl</th>\n",
       "      <th>postUrl</th>\n",
       "    </tr>\n",
       "  </thead>\n",
       "  <tbody>\n",
       "    <tr>\n",
       "      <th>0</th>\n",
       "      <td>0</td>\n",
       "      <td>top</td>\n",
       "      <td>pakistan</td>\n",
       "      <td>Naeem Rashid, the Man who tried to stop the sh...</td>\n",
       "      <td>NaN</td>\n",
       "      <td>2019-03-15 23:33:34</td>\n",
       "      <td>Shahnaseebbabar</td>\n",
       "      <td>6424</td>\n",
       "      <td>False</td>\n",
       "      <td>['All the respects to him. May Allah grant him...</td>\n",
       "      <td>317</td>\n",
       "      <td>https://i.redd.it/bfa4wlqctbm21.png</td>\n",
       "      <td>https://www.reddit.com/r/pakistan/comments/b1i...</td>\n",
       "    </tr>\n",
       "    <tr>\n",
       "      <th>1</th>\n",
       "      <td>1</td>\n",
       "      <td>top</td>\n",
       "      <td>pakistan</td>\n",
       "      <td>Chad Pakistani</td>\n",
       "      <td>NaN</td>\n",
       "      <td>2021-12-24 21:55:19</td>\n",
       "      <td>Negative_Banana_7732</td>\n",
       "      <td>3545</td>\n",
       "      <td>False</td>\n",
       "      <td>['Uno reverse moment', 'Lol man went from US t...</td>\n",
       "      <td>864</td>\n",
       "      <td>https://v.redd.it/fde8ir7kti781</td>\n",
       "      <td>https://www.reddit.com/r/pakistan/comments/rnq...</td>\n",
       "    </tr>\n",
       "    <tr>\n",
       "      <th>2</th>\n",
       "      <td>2</td>\n",
       "      <td>top</td>\n",
       "      <td>pakistan</td>\n",
       "      <td>Arshad Nadeem gives Pakistan a Gold Medal afte...</td>\n",
       "      <td>Pride of Pakistan\\n\\nhttps://preview.redd.it/p...</td>\n",
       "      <td>2024-08-09 00:43:21</td>\n",
       "      <td>arhamshaikhhh</td>\n",
       "      <td>2955</td>\n",
       "      <td>False</td>\n",
       "      <td>[\"This win is his alone, I remember in March o...</td>\n",
       "      <td>359</td>\n",
       "      <td>https://www.reddit.com/r/pakistan/comments/1en...</td>\n",
       "      <td>https://www.reddit.com/r/pakistan/comments/1en...</td>\n",
       "    </tr>\n",
       "    <tr>\n",
       "      <th>3</th>\n",
       "      <td>3</td>\n",
       "      <td>top</td>\n",
       "      <td>pakistan</td>\n",
       "      <td>ALI Khosa was kidnapped because of this video ...</td>\n",
       "      <td>NaN</td>\n",
       "      <td>2024-08-15 17:31:07</td>\n",
       "      <td>Merru</td>\n",
       "      <td>2389</td>\n",
       "      <td>False</td>\n",
       "      <td>['Well the song is as accurate as it could be....</td>\n",
       "      <td>133</td>\n",
       "      <td>https://v.redd.it/32n71xfbntid1</td>\n",
       "      <td>https://www.reddit.com/r/pakistan/comments/1es...</td>\n",
       "    </tr>\n",
       "    <tr>\n",
       "      <th>4</th>\n",
       "      <td>4</td>\n",
       "      <td>top</td>\n",
       "      <td>pakistan</td>\n",
       "      <td>Since no one shared this. Elders and more sens...</td>\n",
       "      <td>NaN</td>\n",
       "      <td>2020-08-10 03:07:47</td>\n",
       "      <td>Sohaib224</td>\n",
       "      <td>2269</td>\n",
       "      <td>False</td>\n",
       "      <td>['Heartbreaking that the elders have to do wha...</td>\n",
       "      <td>104</td>\n",
       "      <td>https://v.redd.it/i123pmimv1g51</td>\n",
       "      <td>https://www.reddit.com/r/pakistan/comments/i6s...</td>\n",
       "    </tr>\n",
       "  </tbody>\n",
       "</table>\n",
       "</div>"
      ],
      "text/plain": [
       "   Unnamed: 0 type subReddit  \\\n",
       "0           0  top  pakistan   \n",
       "1           1  top  pakistan   \n",
       "2           2  top  pakistan   \n",
       "3           3  top  pakistan   \n",
       "4           4  top  pakistan   \n",
       "\n",
       "                                           postTitle  \\\n",
       "0  Naeem Rashid, the Man who tried to stop the sh...   \n",
       "1                                     Chad Pakistani   \n",
       "2  Arshad Nadeem gives Pakistan a Gold Medal afte...   \n",
       "3  ALI Khosa was kidnapped because of this video ...   \n",
       "4  Since no one shared this. Elders and more sens...   \n",
       "\n",
       "                                            postDesc             postTime  \\\n",
       "0                                                NaN  2019-03-15 23:33:34   \n",
       "1                                                NaN  2021-12-24 21:55:19   \n",
       "2  Pride of Pakistan\\n\\nhttps://preview.redd.it/p...  2024-08-09 00:43:21   \n",
       "3                                                NaN  2024-08-15 17:31:07   \n",
       "4                                                NaN  2020-08-10 03:07:47   \n",
       "\n",
       "             authorName  noOfUpvotes  isNSFW  \\\n",
       "0       Shahnaseebbabar         6424   False   \n",
       "1  Negative_Banana_7732         3545   False   \n",
       "2         arhamshaikhhh         2955   False   \n",
       "3                 Merru         2389   False   \n",
       "4             Sohaib224         2269   False   \n",
       "\n",
       "                                            comments  noOfComments  \\\n",
       "0  ['All the respects to him. May Allah grant him...           317   \n",
       "1  ['Uno reverse moment', 'Lol man went from US t...           864   \n",
       "2  [\"This win is his alone, I remember in March o...           359   \n",
       "3  ['Well the song is as accurate as it could be....           133   \n",
       "4  ['Heartbreaking that the elders have to do wha...           104   \n",
       "\n",
       "                                            imageUrl  \\\n",
       "0                https://i.redd.it/bfa4wlqctbm21.png   \n",
       "1                    https://v.redd.it/fde8ir7kti781   \n",
       "2  https://www.reddit.com/r/pakistan/comments/1en...   \n",
       "3                    https://v.redd.it/32n71xfbntid1   \n",
       "4                    https://v.redd.it/i123pmimv1g51   \n",
       "\n",
       "                                             postUrl  \n",
       "0  https://www.reddit.com/r/pakistan/comments/b1i...  \n",
       "1  https://www.reddit.com/r/pakistan/comments/rnq...  \n",
       "2  https://www.reddit.com/r/pakistan/comments/1en...  \n",
       "3  https://www.reddit.com/r/pakistan/comments/1es...  \n",
       "4  https://www.reddit.com/r/pakistan/comments/i6s...  "
      ]
     },
     "execution_count": 2,
     "metadata": {},
     "output_type": "execute_result"
    }
   ],
   "source": [
    "df = pd.read_csv(\"./data/macbook/pakistan_top.csv\")\n",
    "df.head()"
   ]
  },
  {
   "cell_type": "code",
   "execution_count": 7,
   "id": "4b2bc72e2aaeba4d",
   "metadata": {
    "ExecuteTime": {
     "end_time": "2024-09-16T16:07:01.715122Z",
     "start_time": "2024-09-16T16:07:01.702750Z"
    },
    "collapsed": false
   },
   "outputs": [
    {
     "data": {
      "text/plain": [
       "(996, 13)"
      ]
     },
     "execution_count": 7,
     "metadata": {},
     "output_type": "execute_result"
    }
   ],
   "source": [
    "df.shape"
   ]
  },
  {
   "cell_type": "code",
   "execution_count": null,
   "id": "ad15974fe9173f72",
   "metadata": {
    "ExecuteTime": {
     "end_time": "2024-09-17T08:53:37.169006Z",
     "start_time": "2024-09-17T08:53:21.010558Z"
    },
    "collapsed": false
   },
   "outputs": [
    {
     "ename": "",
     "evalue": "",
     "output_type": "error",
     "traceback": [
      "\u001b[1;31mRunning cells with 'Python 3.12.6' requires the ipykernel package.\n",
      "\u001b[1;31mRun the following command to install 'ipykernel' into the Python environment. \n",
      "\u001b[1;31mCommand: '/bin/python3.12 -m pip install ipykernel -U --user --force-reinstall'"
     ]
    }
   ],
   "source": [
    "import os\n",
    "import pandas as pd\n",
    "\n",
    "directory = \"./Backend/data/macbook\"\n",
    "\n",
    "files = os.listdir(directory)\n",
    "count = 0\n",
    "for filename in files:\n",
    "    if filename.endswith(\".csv\"):\n",
    "        file_path = os.path.join(directory, filename)\n",
    "        try:\n",
    "            df = pd.read_csv(file_path)\n",
    "            print(filename, \" has total records: \", df.shape[0])\n",
    "            count = count+df.shape[0]\n",
    "        except Exception as e:\n",
    "            print(f'Error reading {filename}: {e}')\n",
    "            \n",
    "            \n",
    "print(\"total records: \", count)"
   ]
  },
  {
   "cell_type": "code",
   "execution_count": null,
   "id": "33c23fd0f5347e5a",
   "metadata": {
    "collapsed": false
   },
   "outputs": [],
   "source": []
  }
 ],
 "metadata": {
  "kernelspec": {
   "display_name": "Python 3",
   "language": "python",
   "name": "python3"
  },
  "language_info": {
   "codemirror_mode": {
    "name": "ipython",
    "version": 2
   },
   "file_extension": ".py",
   "mimetype": "text/x-python",
   "name": "python",
   "nbconvert_exporter": "python",
   "pygments_lexer": "ipython2",
   "version": "3.12.6"
  }
 },
 "nbformat": 4,
 "nbformat_minor": 5
}
