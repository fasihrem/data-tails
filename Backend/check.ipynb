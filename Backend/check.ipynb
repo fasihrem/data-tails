{
 "cells": [
  {
   "cell_type": "code",
   "execution_count": 1,
   "id": "initial_id",
   "metadata": {
    "collapsed": true,
    "ExecuteTime": {
     "end_time": "2024-09-16T16:02:50.356504Z",
     "start_time": "2024-09-16T16:02:49.849397Z"
    }
   },
   "outputs": [],
   "source": [
    "import pandas as pd"
   ]
  },
  {
   "cell_type": "code",
   "outputs": [
    {
     "data": {
      "text/plain": "   Unnamed: 0 type subReddit  \\\n0           0  top  pakistan   \n1           1  top  pakistan   \n2           2  top  pakistan   \n3           3  top  pakistan   \n4           4  top  pakistan   \n\n                                           postTitle  \\\n0  Naeem Rashid, the Man who tried to stop the sh...   \n1                                     Chad Pakistani   \n2  Arshad Nadeem gives Pakistan a Gold Medal afte...   \n3  ALI Khosa was kidnapped because of this video ...   \n4  Since no one shared this. Elders and more sens...   \n\n                                            postDesc             postTime  \\\n0                                                NaN  2019-03-15 23:33:34   \n1                                                NaN  2021-12-24 21:55:19   \n2  Pride of Pakistan\\n\\nhttps://preview.redd.it/p...  2024-08-09 00:43:21   \n3                                                NaN  2024-08-15 17:31:07   \n4                                                NaN  2020-08-10 03:07:47   \n\n             authorName  noOfUpvotes  isNSFW  \\\n0       Shahnaseebbabar         6424   False   \n1  Negative_Banana_7732         3545   False   \n2         arhamshaikhhh         2955   False   \n3                 Merru         2389   False   \n4             Sohaib224         2269   False   \n\n                                            comments  noOfComments  \\\n0  ['All the respects to him. May Allah grant him...           317   \n1  ['Uno reverse moment', 'Lol man went from US t...           864   \n2  [\"This win is his alone, I remember in March o...           359   \n3  ['Well the song is as accurate as it could be....           133   \n4  ['Heartbreaking that the elders have to do wha...           104   \n\n                                            imageUrl  \\\n0                https://i.redd.it/bfa4wlqctbm21.png   \n1                    https://v.redd.it/fde8ir7kti781   \n2  https://www.reddit.com/r/pakistan/comments/1en...   \n3                    https://v.redd.it/32n71xfbntid1   \n4                    https://v.redd.it/i123pmimv1g51   \n\n                                             postUrl  \n0  https://www.reddit.com/r/pakistan/comments/b1i...  \n1  https://www.reddit.com/r/pakistan/comments/rnq...  \n2  https://www.reddit.com/r/pakistan/comments/1en...  \n3  https://www.reddit.com/r/pakistan/comments/1es...  \n4  https://www.reddit.com/r/pakistan/comments/i6s...  ",
      "text/html": "<div>\n<style scoped>\n    .dataframe tbody tr th:only-of-type {\n        vertical-align: middle;\n    }\n\n    .dataframe tbody tr th {\n        vertical-align: top;\n    }\n\n    .dataframe thead th {\n        text-align: right;\n    }\n</style>\n<table border=\"1\" class=\"dataframe\">\n  <thead>\n    <tr style=\"text-align: right;\">\n      <th></th>\n      <th>Unnamed: 0</th>\n      <th>type</th>\n      <th>subReddit</th>\n      <th>postTitle</th>\n      <th>postDesc</th>\n      <th>postTime</th>\n      <th>authorName</th>\n      <th>noOfUpvotes</th>\n      <th>isNSFW</th>\n      <th>comments</th>\n      <th>noOfComments</th>\n      <th>imageUrl</th>\n      <th>postUrl</th>\n    </tr>\n  </thead>\n  <tbody>\n    <tr>\n      <th>0</th>\n      <td>0</td>\n      <td>top</td>\n      <td>pakistan</td>\n      <td>Naeem Rashid, the Man who tried to stop the sh...</td>\n      <td>NaN</td>\n      <td>2019-03-15 23:33:34</td>\n      <td>Shahnaseebbabar</td>\n      <td>6424</td>\n      <td>False</td>\n      <td>['All the respects to him. May Allah grant him...</td>\n      <td>317</td>\n      <td>https://i.redd.it/bfa4wlqctbm21.png</td>\n      <td>https://www.reddit.com/r/pakistan/comments/b1i...</td>\n    </tr>\n    <tr>\n      <th>1</th>\n      <td>1</td>\n      <td>top</td>\n      <td>pakistan</td>\n      <td>Chad Pakistani</td>\n      <td>NaN</td>\n      <td>2021-12-24 21:55:19</td>\n      <td>Negative_Banana_7732</td>\n      <td>3545</td>\n      <td>False</td>\n      <td>['Uno reverse moment', 'Lol man went from US t...</td>\n      <td>864</td>\n      <td>https://v.redd.it/fde8ir7kti781</td>\n      <td>https://www.reddit.com/r/pakistan/comments/rnq...</td>\n    </tr>\n    <tr>\n      <th>2</th>\n      <td>2</td>\n      <td>top</td>\n      <td>pakistan</td>\n      <td>Arshad Nadeem gives Pakistan a Gold Medal afte...</td>\n      <td>Pride of Pakistan\\n\\nhttps://preview.redd.it/p...</td>\n      <td>2024-08-09 00:43:21</td>\n      <td>arhamshaikhhh</td>\n      <td>2955</td>\n      <td>False</td>\n      <td>[\"This win is his alone, I remember in March o...</td>\n      <td>359</td>\n      <td>https://www.reddit.com/r/pakistan/comments/1en...</td>\n      <td>https://www.reddit.com/r/pakistan/comments/1en...</td>\n    </tr>\n    <tr>\n      <th>3</th>\n      <td>3</td>\n      <td>top</td>\n      <td>pakistan</td>\n      <td>ALI Khosa was kidnapped because of this video ...</td>\n      <td>NaN</td>\n      <td>2024-08-15 17:31:07</td>\n      <td>Merru</td>\n      <td>2389</td>\n      <td>False</td>\n      <td>['Well the song is as accurate as it could be....</td>\n      <td>133</td>\n      <td>https://v.redd.it/32n71xfbntid1</td>\n      <td>https://www.reddit.com/r/pakistan/comments/1es...</td>\n    </tr>\n    <tr>\n      <th>4</th>\n      <td>4</td>\n      <td>top</td>\n      <td>pakistan</td>\n      <td>Since no one shared this. Elders and more sens...</td>\n      <td>NaN</td>\n      <td>2020-08-10 03:07:47</td>\n      <td>Sohaib224</td>\n      <td>2269</td>\n      <td>False</td>\n      <td>['Heartbreaking that the elders have to do wha...</td>\n      <td>104</td>\n      <td>https://v.redd.it/i123pmimv1g51</td>\n      <td>https://www.reddit.com/r/pakistan/comments/i6s...</td>\n    </tr>\n  </tbody>\n</table>\n</div>"
     },
     "execution_count": 2,
     "metadata": {},
     "output_type": "execute_result"
    }
   ],
   "source": [
    "df = pd.read_csv(\"./data/macbook/pakistan_top.csv\")\n",
    "df.head()"
   ],
   "metadata": {
    "collapsed": false,
    "ExecuteTime": {
     "end_time": "2024-09-16T16:02:50.591959Z",
     "start_time": "2024-09-16T16:02:50.358031Z"
    }
   },
   "id": "8658758f788eda7e",
   "execution_count": 2
  },
  {
   "cell_type": "code",
   "outputs": [
    {
     "data": {
      "text/plain": "(996, 13)"
     },
     "execution_count": 7,
     "metadata": {},
     "output_type": "execute_result"
    }
   ],
   "source": [
    "df.shape"
   ],
   "metadata": {
    "collapsed": false,
    "ExecuteTime": {
     "end_time": "2024-09-16T16:07:01.715122Z",
     "start_time": "2024-09-16T16:07:01.702750Z"
    }
   },
   "id": "4b2bc72e2aaeba4d",
   "execution_count": 7
  },
  {
   "cell_type": "code",
   "outputs": [],
   "source": [],
   "metadata": {
    "collapsed": false
   },
   "id": "ad15974fe9173f72"
  }
 ],
 "metadata": {
  "kernelspec": {
   "display_name": "Python 3",
   "language": "python",
   "name": "python3"
  },
  "language_info": {
   "codemirror_mode": {
    "name": "ipython",
    "version": 2
   },
   "file_extension": ".py",
   "mimetype": "text/x-python",
   "name": "python",
   "nbconvert_exporter": "python",
   "pygments_lexer": "ipython2",
   "version": "2.7.6"
  }
 },
 "nbformat": 4,
 "nbformat_minor": 5
}
