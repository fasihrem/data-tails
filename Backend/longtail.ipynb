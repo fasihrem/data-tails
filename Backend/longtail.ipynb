{
 "cells": [
  {
   "cell_type": "markdown",
   "source": [
    "# Get Sub count for each Subreddit"
   ],
   "metadata": {
    "collapsed": false
   },
   "id": "b942ae4f4f134acc"
  },
  {
   "cell_type": "code",
   "execution_count": 1,
   "id": "abea1b2c4e141ea9",
   "metadata": {
    "collapsed": false,
    "ExecuteTime": {
     "end_time": "2024-10-01T20:02:19.373523Z",
     "start_time": "2024-10-01T20:02:16.302996Z"
    }
   },
   "outputs": [],
   "source": [
    "import praw\n",
    "import pandas as pd"
   ]
  },
  {
   "cell_type": "code",
   "execution_count": 2,
   "id": "initial_id",
   "metadata": {
    "collapsed": true,
    "ExecuteTime": {
     "end_time": "2024-09-30T08:31:52.058256Z",
     "start_time": "2024-09-30T08:31:52.052999Z"
    }
   },
   "outputs": [],
   "source": [
    "subReddits = [\"pakistan\", \"islamabad\", \"lahore\", \"karachi\", \"technology\", \"tech\", \"technews\", \"news\",\"worldnews\", \"sports\", \"youtube\", \"television\", \"relationship_advice\", \"relationships\", \"AskReddit\", \"ask\", \"Discussion\", \"Filmmakers\", \"filmmaking\", \"Movies\",\"MovieSuggestions\", \"FASTNU\", \"NUST\", \"LinusTechTips\", \"religion\", \"Catholicism\",\"islam\", \"progressive_islam\", \"Judaism\", \"Buddhism\", \"hinduism\", \"Freethought\", \"exmuslim\",\n",
    "              \"exmormon\", \"skeptic\", \"Music\", \"todayilearned\", \"science\", \"showerthoughts\", \"space\", \"askscience\", \"mildlyinteresting\", \"explainlikeimfive\", \"LifeProTips\", \"GetMotivated\", \"Gadgets\", \"dataisbeautiful\", \"futurology\", \"Documentaries\", \"UpliftingNews\", \"personalfinance\", \"tifu\", \"philosophy\", \"history\", \"Damnthatsinteresting\", \"wallstreetbets\", \"NatureIsFuckingLit\", \"creepy\", \"InternetIsBeautiful\", \"lifehacks\", \"nba\", \"Fitness\", \"interestingasfuck\", \"travel\", \"nfl\", \"AdviceAnimals\", \"CryptoCurrency\",\"politics\", \"NetflixBestOf\", \"mildlyinfuriating\", \"soccer\", \"Parenting\", \"europe\", \"buildapc\", \"gardening\",\"Bitcoin\", \"cars\", \"programming\", \"apple\", \"YouShouldKnow\", \"nevertellmetheodds\", \"frugal\", \"coolguides\", \"socialskills\", \"foodhacks\", \"nasa\", \"nutrition\", \"NoStupidQuestions\", \"Economics\", \"TravelHacks\", \"biology\", \"dating_advice\", \"Survival\", \"unpopularopinion\", \"formula1\", \"PremierLeague\", \"bodyweightfitness\", \"MovieDetails\", \"learnprogramming\", \"Cooking\", \"iphone\", \"hardware\", \"Entrepreneur\", \"unitedkingdom\", \"careerguidance\", \"homeautomation\", \"changemyview\", \"psychology\", \"running\", \"compsci\", \"motorcycles\", \"math\", \"HealthyFood\", \"chemistry\", \"Baking\", \"StockMarket\", \"oddlyspecific\", \"JapanTravel\", \"bodybuilding\", \"Astronomy\", \"writing\", \"Health\", \"Atheism\", \"travelpartners\"]"
   ]
  },
  {
   "cell_type": "code",
   "execution_count": 3,
   "id": "344adb38cad4ccdc",
   "metadata": {
    "collapsed": false,
    "ExecuteTime": {
     "end_time": "2024-09-30T08:31:52.066582Z",
     "start_time": "2024-09-30T08:31:52.060272Z"
    }
   },
   "outputs": [
    {
     "data": {
      "text/plain": "124"
     },
     "execution_count": 3,
     "metadata": {},
     "output_type": "execute_result"
    }
   ],
   "source": [
    "len(subReddits)"
   ]
  },
  {
   "cell_type": "code",
   "execution_count": 4,
   "id": "422b6be981d5bbb2",
   "metadata": {
    "collapsed": false,
    "ExecuteTime": {
     "end_time": "2024-09-30T08:31:58.308331Z",
     "start_time": "2024-09-30T08:31:57.860975Z"
    }
   },
   "outputs": [
    {
     "name": "stdout",
     "output_type": "stream",
     "text": [
      "True\n"
     ]
    }
   ],
   "source": [
    "reddit = praw.Reddit(\n",
    "            client_id='P4-FFLW065bTLnGSqfCnlg',\n",
    "            client_secret='-EBrPckd7kwt0b8OaxJ-5cfwYRExQw',\n",
    "            user_agent='MyRedditScraper/1.0 (Macintosh; Intel Mac OS X 14.3.1; Apple Silicon) Python/3.12 (fasihrem@gmail.com)'\n",
    "        )\n",
    "\n",
    "print(reddit.read_only)"
   ]
  },
  {
   "cell_type": "code",
   "execution_count": 18,
   "id": "920fa28ff909af2",
   "metadata": {
    "ExecuteTime": {
     "end_time": "2024-09-29T20:00:24.555922Z",
     "start_time": "2024-09-29T19:59:32.829279Z"
    },
    "collapsed": false
   },
   "outputs": [
    {
     "name": "stdout",
     "output_type": "stream",
     "text": [
      "r/pakistan has 295034 subscribers\n",
      "r/islamabad has 103861 subscribers\n",
      "r/lahore has 99509 subscribers\n",
      "r/karachi has 63748 subscribers\n",
      "r/technology has 17200548 subscribers\n",
      "r/tech has 651583 subscribers\n",
      "r/technews has 886447 subscribers\n",
      "r/news has 28691376 subscribers\n",
      "r/worldnews has 40918537 subscribers\n",
      "r/sports has 21291060 subscribers\n",
      "r/youtube has 2369521 subscribers\n",
      "r/television has 17311024 subscribers\n",
      "r/relationship_advice has 13966948 subscribers\n",
      "r/relationships has 3530522 subscribers\n",
      "r/AskReddit has 48517348 subscribers\n",
      "r/ask has 1033167 subscribers\n",
      "r/Discussion has 26754 subscribers\n",
      "r/Filmmakers has 2830035 subscribers\n",
      "r/filmmaking has 22419 subscribers\n",
      "r/Movies has 33683919 subscribers\n",
      "r/MovieSuggestions has 1556403 subscribers\n",
      "r/FASTNU has 4961 subscribers\n",
      "r/NUST has 15659 subscribers\n",
      "r/LinusTechTips has 401346 subscribers\n",
      "r/religion has 110656 subscribers\n",
      "r/Catholicism has 227581 subscribers\n",
      "r/islam has 315929 subscribers\n",
      "r/progressive_islam has 38056 subscribers\n",
      "r/Judaism has 110063 subscribers\n",
      "r/Buddhism has 695564 subscribers\n",
      "r/hinduism has 166027 subscribers\n",
      "r/Freethought has 51123 subscribers\n",
      "r/exmuslim has 179134 subscribers\n",
      "r/exmormon has 311115 subscribers\n",
      "r/skeptic has 206110 subscribers\n",
      "r/Music has 34847662 subscribers\n",
      "r/todayilearned has 37947915 subscribers\n",
      "r/science has 32837958 subscribers\n",
      "r/showerthoughts has 32667443 subscribers\n",
      "r/space has 26595500 subscribers\n",
      "r/askscience has 25622108 subscribers\n",
      "r/mildlyinteresting has 23963960 subscribers\n",
      "r/explainlikeimfive has 22935518 subscribers\n",
      "r/LifeProTips has 22700236 subscribers\n",
      "r/GetMotivated has 23010586 subscribers\n",
      "r/Gadgets has 22603416 subscribers\n",
      "r/dataisbeautiful has 21189187 subscribers\n",
      "r/futurology has 20795403 subscribers\n",
      "r/Documentaries has 20378348 subscribers\n",
      "r/UpliftingNews has 20011168 subscribers\n",
      "r/personalfinance has 19808565 subscribers\n",
      "r/tifu has 18611177 subscribers\n",
      "r/philosophy has 18039785 subscribers\n",
      "r/history has 18205738 subscribers\n",
      "r/Damnthatsinteresting has 17412300 subscribers\n",
      "r/wallstreetbets has 16731268 subscribers\n",
      "r/NatureIsFuckingLit has 14450663 subscribers\n",
      "r/creepy has 14864943 subscribers\n",
      "r/InternetIsBeautiful has 16631412 subscribers\n",
      "r/lifehacks has 13668266 subscribers\n",
      "r/nba has 13095184 subscribers\n",
      "r/Fitness has 11964929 subscribers\n",
      "r/interestingasfuck has 12707618 subscribers\n",
      "r/travel has 11815016 subscribers\n",
      "r/nfl has 10410729 subscribers\n",
      "r/AdviceAnimals has 9951617 subscribers\n",
      "r/CryptoCurrency has 8692918 subscribers\n",
      "r/politics has 8655106 subscribers\n",
      "r/NetflixBestOf has 9985813 subscribers\n",
      "r/mildlyinfuriating has 8355915 subscribers\n",
      "r/soccer has 7546249 subscribers\n",
      "r/Parenting has 7511078 subscribers\n",
      "r/europe has 7473745 subscribers\n",
      "r/buildapc has 7326279 subscribers\n",
      "r/gardening has 7198734 subscribers\n",
      "r/Bitcoin has 7081299 subscribers\n",
      "r/cars has 6755960 subscribers\n",
      "r/programming has 6479316 subscribers\n",
      "r/apple has 5644281 subscribers\n",
      "r/YouShouldKnow has 5408555 subscribers\n",
      "r/nevertellmetheodds has 5578424 subscribers\n",
      "r/frugal has 5568472 subscribers\n",
      "r/coolguides has 5444395 subscribers\n",
      "r/socialskills has 5483074 subscribers\n",
      "r/foodhacks has 5343566 subscribers\n",
      "r/nasa has 5205436 subscribers\n",
      "r/nutrition has 5212861 subscribers\n",
      "r/NoStupidQuestions has 4987510 subscribers\n",
      "r/Economics has 4667658 subscribers\n",
      "r/TravelHacks has 4711036 subscribers\n",
      "r/biology has 4638667 subscribers\n",
      "r/dating_advice has 4576833 subscribers\n",
      "r/Survival has 4615292 subscribers\n",
      "r/unpopularopinion has 4366130 subscribers\n",
      "r/formula1 has 4345353 subscribers\n",
      "r/PremierLeague has 4331040 subscribers\n",
      "r/bodyweightfitness has 4164249 subscribers\n",
      "r/MovieDetails has 4143468 subscribers\n",
      "r/learnprogramming has 4132290 subscribers\n",
      "r/Cooking has 4081865 subscribers\n",
      "r/iphone has 4034333 subscribers\n",
      "r/hardware has 4039804 subscribers\n",
      "r/Entrepreneur has 4054730 subscribers\n",
      "r/unitedkingdom has 3956897 subscribers\n",
      "r/careerguidance has 3951960 subscribers\n",
      "r/homeautomation has 3945962 subscribers\n",
      "r/changemyview has 3722237 subscribers\n",
      "r/psychology has 3763112 subscribers\n",
      "r/running has 3563388 subscribers\n",
      "r/compsci has 3543530 subscribers\n",
      "r/motorcycles has 3459202 subscribers\n",
      "r/math has 3311797 subscribers\n",
      "r/HealthyFood has 3181373 subscribers\n",
      "r/chemistry has 3175750 subscribers\n",
      "r/Baking has 3136607 subscribers\n",
      "r/StockMarket has 3063722 subscribers\n",
      "r/oddlyspecific has 3082179 subscribers\n",
      "r/JapanTravel has 3037852 subscribers\n",
      "r/bodybuilding has 2941805 subscribers\n",
      "r/Astronomy has 2944131 subscribers\n",
      "r/writing has 2942340 subscribers\n",
      "r/Health has 3041958 subscribers\n",
      "r/Atheism has 2908535 subscribers\n",
      "r/travelpartners has 117036 subscribers\n"
     ]
    }
   ],
   "source": [
    "srs = {}\n",
    "for subreddits in subReddits:\n",
    "    subs = reddit.subreddit(subreddits).subscribers\n",
    "    print(f\"r/{subreddits} has {subs} subscribers\")\n",
    "    \n",
    "    if subreddits in srs:\n",
    "        srs[subreddits].append(subs)\n",
    "    else:\n",
    "        srs[subreddits] = [subs]\n"
   ]
  },
  {
   "cell_type": "code",
   "execution_count": 22,
   "id": "23ebefff7b0274c2",
   "metadata": {
    "ExecuteTime": {
     "end_time": "2024-09-29T20:02:20.031614Z",
     "start_time": "2024-09-29T20:02:20.009825Z"
    },
    "collapsed": false
   },
   "outputs": [
    {
     "name": "stdout",
     "output_type": "stream",
     "text": [
      "    Subreddit  Subscribers\n",
      "0    pakistan       295034\n",
      "1   islamabad       103861\n",
      "2      lahore        99509\n",
      "3     karachi        63748\n",
      "4  technology     17200548\n"
     ]
    }
   ],
   "source": [
    "srs_df = pd.DataFrame(list(srs.items()), columns=['Subreddit', 'Subscribers'])\n",
    "srs_df['Subscribers'] = srs_df['Subscribers'].apply(lambda x: x[0] if isinstance(x, list) else x)\n",
    "print(srs_df.head())\n"
   ]
  },
  {
   "cell_type": "code",
   "execution_count": 23,
   "id": "8117386c2c39c435",
   "metadata": {
    "ExecuteTime": {
     "end_time": "2024-09-29T20:02:46.199881Z",
     "start_time": "2024-09-29T20:02:46.181048Z"
    },
    "collapsed": false
   },
   "outputs": [],
   "source": [
    "srs_df.to_csv(\"subscribers_count.csv\")"
   ]
  },
  {
   "cell_type": "markdown",
   "source": [
    "# Normalise Subscribers and Upvotes "
   ],
   "metadata": {
    "collapsed": false
   },
   "id": "536ce1c5e2124aa5"
  },
  {
   "cell_type": "code",
   "outputs": [],
   "source": [
    "import os\n",
    "import pandas as pd"
   ],
   "metadata": {
    "collapsed": false,
    "ExecuteTime": {
     "end_time": "2024-10-01T20:03:57.074194Z",
     "start_time": "2024-10-01T20:03:57.069822Z"
    }
   },
   "id": "3828c00645e5185",
   "execution_count": 3
  },
  {
   "cell_type": "code",
   "execution_count": 11,
   "id": "3a1b81a5",
   "metadata": {
    "ExecuteTime": {
     "end_time": "2024-10-01T20:32:36.243824Z",
     "start_time": "2024-10-01T20:32:36.217671Z"
    }
   },
   "outputs": [
    {
     "data": {
      "text/plain": "    Subreddit  Subscribers\n0    pakistan       295034\n1   islamabad       103861\n2      lahore        99509\n3     karachi        63748\n4  technology     17200548",
      "text/html": "<div>\n<style scoped>\n    .dataframe tbody tr th:only-of-type {\n        vertical-align: middle;\n    }\n\n    .dataframe tbody tr th {\n        vertical-align: top;\n    }\n\n    .dataframe thead th {\n        text-align: right;\n    }\n</style>\n<table border=\"1\" class=\"dataframe\">\n  <thead>\n    <tr style=\"text-align: right;\">\n      <th></th>\n      <th>Subreddit</th>\n      <th>Subscribers</th>\n    </tr>\n  </thead>\n  <tbody>\n    <tr>\n      <th>0</th>\n      <td>pakistan</td>\n      <td>295034</td>\n    </tr>\n    <tr>\n      <th>1</th>\n      <td>islamabad</td>\n      <td>103861</td>\n    </tr>\n    <tr>\n      <th>2</th>\n      <td>lahore</td>\n      <td>99509</td>\n    </tr>\n    <tr>\n      <th>3</th>\n      <td>karachi</td>\n      <td>63748</td>\n    </tr>\n    <tr>\n      <th>4</th>\n      <td>technology</td>\n      <td>17200548</td>\n    </tr>\n  </tbody>\n</table>\n</div>"
     },
     "execution_count": 11,
     "metadata": {},
     "output_type": "execute_result"
    }
   ],
   "source": [
    "df = pd.read_csv(\"subscribers_count.csv\")\n",
    "df.drop(columns=['Unnamed: 0'], inplace=True)\n",
    "df.head()"
   ]
  },
  {
   "cell_type": "code",
   "outputs": [],
   "source": [
    "directory = \"/Users/fasihrem/Downloads/University/Final Year Project/data-tails/Backend/data/\"\n",
    "files = os.listdir(directory)\n",
    "\n",
    "srs = df['Subreddit'].tolist()\n",
    "max_subscribers = df['Subscribers'].max()\n",
    "min_subscribers = df['Subscribers'].min()\n",
    "\n",
    "avg_upvotes = []\n",
    "\n",
    "for file in files:\n",
    "    subreddit_name = file.split('_')[0]\n",
    "    \n",
    "    if subreddit_name in srs:\n",
    "        file_path = os.path.join(directory, file)\n",
    "        temp_df = pd.read_csv(file_path)\n",
    "        \n",
    "        if 'noOfUpvotes' in temp_df.columns:\n",
    "            # Calculate the metrics\n",
    "            avg = temp_df['noOfUpvotes'].mean()\n",
    "            \n",
    "            # Append the results\n",
    "            avg_upvotes.append(avg)\n",
    "            \n",
    "        else:\n",
    "            # Append NaN or some default value if the column is missing\n",
    "            avg_upvotes.append(None)\n",
    "            \n",
    "    df['Avg_Upvotes'] = avg_upvotes\n",
    "            \n",
    "max_upvotes = df['Avg_Upvotes'].max()\n",
    "min_upvotes = df['Avg_Upvotes'].min()"
   ],
   "metadata": {
    "collapsed": false
   },
   "id": "3208d8f93ddb5f03",
   "execution_count": null
  },
  {
   "cell_type": "code",
   "outputs": [],
   "source": [
    "df['Normalized Upvotes'] = (df['Avg_Upvotes'] - min_upvotes) / (max_upvotes - min_upvotes)\n",
    "df['Normalized Subs'] = (df['Subscribers'] - min_subscribers) / (max_subscribers - min_subscribers)\n",
    "\n",
    "print(df.head(5))"
   ],
   "metadata": {
    "collapsed": false
   },
   "id": "805c26a39af2bb1c"
  },
  {
   "cell_type": "markdown",
   "source": [
    "# Calculating Score for each Subreddit using Weighted Scoring method"
   ],
   "metadata": {
    "collapsed": false
   },
   "id": "8dd1283b5a730797"
  },
  {
   "cell_type": "code",
   "outputs": [],
   "source": [
    "w1 = 0.5\n",
    "w2 = 0.5\n",
    "df['Scores'] = (w1 * df['Normalized Subs']) + (w2 * df['Normalized Upvotes'])\n",
    "\n",
    "print(df.head(5))"
   ],
   "metadata": {
    "collapsed": false
   },
   "id": "1628e90577083036"
  },
  {
   "cell_type": "code",
   "outputs": [],
   "source": [
    "df.to_csv(\"subreddit_scores.csv\", sep=',', encoding='utf-8')"
   ],
   "metadata": {
    "collapsed": false
   },
   "id": "1b0bbc21ea8675b0"
  },
  {
   "cell_type": "markdown",
   "source": [
    "# Making a Visualisation of the Scores for each Subreddit"
   ],
   "metadata": {
    "collapsed": false
   },
   "id": "6bb6aefac290f53"
  },
  {
   "cell_type": "code",
   "outputs": [],
   "source": [
    "import matplotlib.pyplot as plt\n",
    "import seaborn as sns"
   ],
   "metadata": {
    "collapsed": false
   },
   "id": "8113cdf5ef774bb8"
  },
  {
   "cell_type": "code",
   "outputs": [],
   "source": [
    "# Scatter Plot\n",
    "plt.figure(figsize=(10, 6))\n",
    "sns.scatterplot(x='followers', y='Scores', data=df, hue='subreddit_name', style='subreddit_name', s=100)\n",
    "plt.title('Scatter Plot of Subreddit Scores vs. Followers')\n",
    "plt.xlabel('Number of Followers')\n",
    "plt.ylabel('Scores')\n",
    "plt.legend(title='Subreddit Name', bbox_to_anchor=(1.05, 1), loc='upper left')\n",
    "plt.grid()\n",
    "plt.show()\n",
    "\n",
    "plt.savefig('/Users/fasihrem/Downloads/University/Final Year Project/data-tails/Backend/data/scatter_plot.png', format='png', dpi=300)  # dpi controls the resolution\n",
    "plt.close()"
   ],
   "metadata": {
    "collapsed": false
   },
   "id": "4beb5b0a81ae7f7f"
  },
  {
   "cell_type": "code",
   "outputs": [],
   "source": [
    "# Bar Chart\n",
    "plt.figure(figsize=(12, 6))\n",
    "sns.barplot(x='subreddit_name', y='Scores', data=df.sort_values('Scores', ascending=False), palette='viridis')\n",
    "plt.xticks(rotation=90)\n",
    "plt.title('Subreddit Scores')\n",
    "plt.xlabel('Subreddit Name')\n",
    "plt.ylabel('Score')\n",
    "plt.show()\n",
    "\n",
    "plt.savefig('/Users/fasihrem/Downloads/University/Final Year Project/data-tails/Backend/data/bar_chart.png', format='png', dpi=300)  # dpi controls the resolution\n",
    "plt.close("
   ],
   "metadata": {
    "collapsed": false
   },
   "id": "d7d91fe7f3fe7995"
  },
  {
   "cell_type": "code",
   "outputs": [
    {
     "ename": "SyntaxError",
     "evalue": "incomplete input (1096474662.py, line 20)",
     "output_type": "error",
     "traceback": [
      "\u001B[0;36m  Cell \u001B[0;32mIn [13], line 20\u001B[0;36m\u001B[0m\n\u001B[0;31m    plt.close(\u001B[0m\n\u001B[0m              ^\u001B[0m\n\u001B[0;31mSyntaxError\u001B[0m\u001B[0;31m:\u001B[0m incomplete input\n"
     ]
    }
   ],
   "source": [
    "# # Box Plot\n",
    "# plt.figure(figsize=(8, 6))\n",
    "# sns.boxplot(y='Scores', data=df)\n",
    "# plt.title('Box Plot of Subreddit Scores')\n",
    "# plt.ylabel('Scores')\n",
    "# plt.grid(axis='y')\n",
    "# \n",
    "# # Add text annotations for max, min, and median\n",
    "# median_score = df['Scores'].median()\n",
    "# max_score = df['Scores'].max()\n",
    "# min_score = df['Scores'].min()\n",
    "# \n",
    "# plt.text(0.1, median_score, f'Median: {median_score:.2f}', color='blue', fontsize=12)\n",
    "# plt.text(0.1, max_score, f'Max: {max_score:.2f}', color='green', fontsize=12)\n",
    "# plt.text(0.1, min_score, f'Min: {min_score:.2f}', color='red', fontsize=12)\n",
    "# \n",
    "# plt.show()\n",
    "# \n",
    "# plt.savefig('/Users/fasihrem/Downloads/University/Final Year Project/data-tails/Backend/data/box_plot.png', format='png', dpi=300)  # dpi controls the resolution\n",
    "# plt.close("
   ],
   "metadata": {
    "collapsed": false,
    "ExecuteTime": {
     "end_time": "2024-10-01T20:35:28.655073Z",
     "start_time": "2024-10-01T20:35:28.642456Z"
    }
   },
   "id": "dbe0ac24a3765b2a",
   "execution_count": 13
  }
 ],
 "metadata": {
  "kernelspec": {
   "display_name": "Python 3",
   "language": "python",
   "name": "python3"
  },
  "language_info": {
   "codemirror_mode": {
    "name": "ipython",
    "version": 2
   },
   "file_extension": ".py",
   "mimetype": "text/x-python",
   "name": "python",
   "nbconvert_exporter": "python",
   "pygments_lexer": "ipython2",
   "version": "3.12.6"
  }
 },
 "nbformat": 4,
 "nbformat_minor": 5
}
