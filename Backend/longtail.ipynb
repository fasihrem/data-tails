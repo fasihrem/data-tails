{
 "cells": [
  {
   "cell_type": "markdown",
   "id": "b942ae4f4f134acc",
   "metadata": {
    "collapsed": false
   },
   "source": [
    "# Get Sub count for each Subreddit"
   ]
  },
  {
   "cell_type": "code",
   "execution_count": 1,
   "id": "abea1b2c4e141ea9",
   "metadata": {
    "ExecuteTime": {
     "end_time": "2024-10-01T20:02:19.373523Z",
     "start_time": "2024-10-01T20:02:16.302996Z"
    },
    "collapsed": false
   },
   "outputs": [],
   "source": [
    "import praw\n",
    "import pandas as pd"
   ]
  },
  {
   "cell_type": "code",
   "execution_count": 2,
   "id": "initial_id",
   "metadata": {
    "ExecuteTime": {
     "end_time": "2024-09-30T08:31:52.058256Z",
     "start_time": "2024-09-30T08:31:52.052999Z"
    },
    "collapsed": true
   },
   "outputs": [],
   "source": [
    "subReddits = [\"pakistan\", \"islamabad\", \"lahore\", \"karachi\", \"technology\", \"tech\", \"technews\", \"news\",\"worldnews\", \"sports\", \"youtube\", \"television\", \"relationship_advice\", \"relationships\", \"AskReddit\", \"ask\", \"Discussion\", \"Filmmakers\", \"filmmaking\", \"Movies\",\"MovieSuggestions\", \"FASTNU\", \"NUST\", \"LinusTechTips\", \"religion\", \"Catholicism\",\"islam\", \"progressive_islam\", \"Judaism\", \"Buddhism\", \"hinduism\", \"Freethought\", \"exmuslim\",\n",
    "              \"exmormon\", \"skeptic\", \"Music\", \"todayilearned\", \"science\", \"showerthoughts\", \"space\", \"askscience\", \"mildlyinteresting\", \"explainlikeimfive\", \"LifeProTips\", \"GetMotivated\", \"Gadgets\", \"dataisbeautiful\", \"futurology\", \"Documentaries\", \"UpliftingNews\", \"personalfinance\", \"tifu\", \"philosophy\", \"history\", \"Damnthatsinteresting\", \"wallstreetbets\", \"NatureIsFuckingLit\", \"creepy\", \"InternetIsBeautiful\", \"lifehacks\", \"nba\", \"Fitness\", \"interestingasfuck\", \"travel\", \"nfl\", \"AdviceAnimals\", \"CryptoCurrency\",\"politics\", \"NetflixBestOf\", \"mildlyinfuriating\", \"soccer\", \"Parenting\", \"europe\", \"buildapc\", \"gardening\",\"Bitcoin\", \"cars\", \"programming\", \"apple\", \"YouShouldKnow\", \"nevertellmetheodds\", \"frugal\", \"coolguides\", \"socialskills\", \"foodhacks\", \"nasa\", \"nutrition\", \"NoStupidQuestions\", \"Economics\", \"TravelHacks\", \"biology\", \"dating_advice\", \"Survival\", \"unpopularopinion\", \"formula1\", \"PremierLeague\", \"bodyweightfitness\", \"MovieDetails\", \"learnprogramming\", \"Cooking\", \"iphone\", \"hardware\", \"Entrepreneur\", \"unitedkingdom\", \"careerguidance\", \"homeautomation\", \"changemyview\", \"psychology\", \"running\", \"compsci\", \"motorcycles\", \"math\", \"HealthyFood\", \"chemistry\", \"Baking\", \"StockMarket\", \"oddlyspecific\", \"JapanTravel\", \"bodybuilding\", \"Astronomy\", \"writing\", \"Health\", \"Atheism\", \"travelpartners\"]"
   ]
  },
  {
   "cell_type": "code",
   "execution_count": 3,
   "id": "344adb38cad4ccdc",
   "metadata": {
    "ExecuteTime": {
     "end_time": "2024-09-30T08:31:52.066582Z",
     "start_time": "2024-09-30T08:31:52.060272Z"
    },
    "collapsed": false
   },
   "outputs": [
    {
     "data": {
      "text/plain": [
       "124"
      ]
     },
     "execution_count": 3,
     "metadata": {},
     "output_type": "execute_result"
    }
   ],
   "source": [
    "len(subReddits)"
   ]
  },
  {
   "cell_type": "code",
   "execution_count": 4,
   "id": "422b6be981d5bbb2",
   "metadata": {
    "ExecuteTime": {
     "end_time": "2024-09-30T08:31:58.308331Z",
     "start_time": "2024-09-30T08:31:57.860975Z"
    },
    "collapsed": false
   },
   "outputs": [
    {
     "name": "stdout",
     "output_type": "stream",
     "text": [
      "True\n"
     ]
    }
   ],
   "source": [
    "reddit = praw.Reddit(\n",
    "            client_id='P4-FFLW065bTLnGSqfCnlg',\n",
    "            client_secret='-EBrPckd7kwt0b8OaxJ-5cfwYRExQw',\n",
    "            user_agent='MyRedditScraper/1.0 (Macintosh; Intel Mac OS X 14.3.1; Apple Silicon) Python/3.12 (fasihrem@gmail.com)'\n",
    "        )\n",
    "\n",
    "print(reddit.read_only)"
   ]
  },
  {
   "cell_type": "code",
   "execution_count": 18,
   "id": "920fa28ff909af2",
   "metadata": {
    "ExecuteTime": {
     "end_time": "2024-09-29T20:00:24.555922Z",
     "start_time": "2024-09-29T19:59:32.829279Z"
    },
    "collapsed": false
   },
   "outputs": [
    {
     "name": "stdout",
     "output_type": "stream",
     "text": [
      "r/pakistan has 295034 subscribers\n",
      "r/islamabad has 103861 subscribers\n",
      "r/lahore has 99509 subscribers\n",
      "r/karachi has 63748 subscribers\n",
      "r/technology has 17200548 subscribers\n",
      "r/tech has 651583 subscribers\n",
      "r/technews has 886447 subscribers\n",
      "r/news has 28691376 subscribers\n",
      "r/worldnews has 40918537 subscribers\n",
      "r/sports has 21291060 subscribers\n",
      "r/youtube has 2369521 subscribers\n",
      "r/television has 17311024 subscribers\n",
      "r/relationship_advice has 13966948 subscribers\n",
      "r/relationships has 3530522 subscribers\n",
      "r/AskReddit has 48517348 subscribers\n",
      "r/ask has 1033167 subscribers\n",
      "r/Discussion has 26754 subscribers\n",
      "r/Filmmakers has 2830035 subscribers\n",
      "r/filmmaking has 22419 subscribers\n",
      "r/Movies has 33683919 subscribers\n",
      "r/MovieSuggestions has 1556403 subscribers\n",
      "r/FASTNU has 4961 subscribers\n",
      "r/NUST has 15659 subscribers\n",
      "r/LinusTechTips has 401346 subscribers\n",
      "r/religion has 110656 subscribers\n",
      "r/Catholicism has 227581 subscribers\n",
      "r/islam has 315929 subscribers\n",
      "r/progressive_islam has 38056 subscribers\n",
      "r/Judaism has 110063 subscribers\n",
      "r/Buddhism has 695564 subscribers\n",
      "r/hinduism has 166027 subscribers\n",
      "r/Freethought has 51123 subscribers\n",
      "r/exmuslim has 179134 subscribers\n",
      "r/exmormon has 311115 subscribers\n",
      "r/skeptic has 206110 subscribers\n",
      "r/Music has 34847662 subscribers\n",
      "r/todayilearned has 37947915 subscribers\n",
      "r/science has 32837958 subscribers\n",
      "r/showerthoughts has 32667443 subscribers\n",
      "r/space has 26595500 subscribers\n",
      "r/askscience has 25622108 subscribers\n",
      "r/mildlyinteresting has 23963960 subscribers\n",
      "r/explainlikeimfive has 22935518 subscribers\n",
      "r/LifeProTips has 22700236 subscribers\n",
      "r/GetMotivated has 23010586 subscribers\n",
      "r/Gadgets has 22603416 subscribers\n",
      "r/dataisbeautiful has 21189187 subscribers\n",
      "r/futurology has 20795403 subscribers\n",
      "r/Documentaries has 20378348 subscribers\n",
      "r/UpliftingNews has 20011168 subscribers\n",
      "r/personalfinance has 19808565 subscribers\n",
      "r/tifu has 18611177 subscribers\n",
      "r/philosophy has 18039785 subscribers\n",
      "r/history has 18205738 subscribers\n",
      "r/Damnthatsinteresting has 17412300 subscribers\n",
      "r/wallstreetbets has 16731268 subscribers\n",
      "r/NatureIsFuckingLit has 14450663 subscribers\n",
      "r/creepy has 14864943 subscribers\n",
      "r/InternetIsBeautiful has 16631412 subscribers\n",
      "r/lifehacks has 13668266 subscribers\n",
      "r/nba has 13095184 subscribers\n",
      "r/Fitness has 11964929 subscribers\n",
      "r/interestingasfuck has 12707618 subscribers\n",
      "r/travel has 11815016 subscribers\n",
      "r/nfl has 10410729 subscribers\n",
      "r/AdviceAnimals has 9951617 subscribers\n",
      "r/CryptoCurrency has 8692918 subscribers\n",
      "r/politics has 8655106 subscribers\n",
      "r/NetflixBestOf has 9985813 subscribers\n",
      "r/mildlyinfuriating has 8355915 subscribers\n",
      "r/soccer has 7546249 subscribers\n",
      "r/Parenting has 7511078 subscribers\n",
      "r/europe has 7473745 subscribers\n",
      "r/buildapc has 7326279 subscribers\n",
      "r/gardening has 7198734 subscribers\n",
      "r/Bitcoin has 7081299 subscribers\n",
      "r/cars has 6755960 subscribers\n",
      "r/programming has 6479316 subscribers\n",
      "r/apple has 5644281 subscribers\n",
      "r/YouShouldKnow has 5408555 subscribers\n",
      "r/nevertellmetheodds has 5578424 subscribers\n",
      "r/frugal has 5568472 subscribers\n",
      "r/coolguides has 5444395 subscribers\n",
      "r/socialskills has 5483074 subscribers\n",
      "r/foodhacks has 5343566 subscribers\n",
      "r/nasa has 5205436 subscribers\n",
      "r/nutrition has 5212861 subscribers\n",
      "r/NoStupidQuestions has 4987510 subscribers\n",
      "r/Economics has 4667658 subscribers\n",
      "r/TravelHacks has 4711036 subscribers\n",
      "r/biology has 4638667 subscribers\n",
      "r/dating_advice has 4576833 subscribers\n",
      "r/Survival has 4615292 subscribers\n",
      "r/unpopularopinion has 4366130 subscribers\n",
      "r/formula1 has 4345353 subscribers\n",
      "r/PremierLeague has 4331040 subscribers\n",
      "r/bodyweightfitness has 4164249 subscribers\n",
      "r/MovieDetails has 4143468 subscribers\n",
      "r/learnprogramming has 4132290 subscribers\n",
      "r/Cooking has 4081865 subscribers\n",
      "r/iphone has 4034333 subscribers\n",
      "r/hardware has 4039804 subscribers\n",
      "r/Entrepreneur has 4054730 subscribers\n",
      "r/unitedkingdom has 3956897 subscribers\n",
      "r/careerguidance has 3951960 subscribers\n",
      "r/homeautomation has 3945962 subscribers\n",
      "r/changemyview has 3722237 subscribers\n",
      "r/psychology has 3763112 subscribers\n",
      "r/running has 3563388 subscribers\n",
      "r/compsci has 3543530 subscribers\n",
      "r/motorcycles has 3459202 subscribers\n",
      "r/math has 3311797 subscribers\n",
      "r/HealthyFood has 3181373 subscribers\n",
      "r/chemistry has 3175750 subscribers\n",
      "r/Baking has 3136607 subscribers\n",
      "r/StockMarket has 3063722 subscribers\n",
      "r/oddlyspecific has 3082179 subscribers\n",
      "r/JapanTravel has 3037852 subscribers\n",
      "r/bodybuilding has 2941805 subscribers\n",
      "r/Astronomy has 2944131 subscribers\n",
      "r/writing has 2942340 subscribers\n",
      "r/Health has 3041958 subscribers\n",
      "r/Atheism has 2908535 subscribers\n",
      "r/travelpartners has 117036 subscribers\n"
     ]
    }
   ],
   "source": [
    "srs = {}\n",
    "for subreddits in subReddits:\n",
    "    subs = reddit.subreddit(subreddits).subscribers\n",
    "    print(f\"r/{subreddits} has {subs} subscribers\")\n",
    "    \n",
    "    if subreddits in srs:\n",
    "        srs[subreddits].append(subs)\n",
    "    else:\n",
    "        srs[subreddits] = [subs]\n"
   ]
  },
  {
   "cell_type": "code",
   "execution_count": 22,
   "id": "23ebefff7b0274c2",
   "metadata": {
    "ExecuteTime": {
     "end_time": "2024-09-29T20:02:20.031614Z",
     "start_time": "2024-09-29T20:02:20.009825Z"
    },
    "collapsed": false
   },
   "outputs": [
    {
     "name": "stdout",
     "output_type": "stream",
     "text": [
      "    Subreddit  Subscribers\n",
      "0    pakistan       295034\n",
      "1   islamabad       103861\n",
      "2      lahore        99509\n",
      "3     karachi        63748\n",
      "4  technology     17200548\n"
     ]
    }
   ],
   "source": [
    "srs_df = pd.DataFrame(list(srs.items()), columns=['Subreddit', 'Subscribers'])\n",
    "srs_df['Subscribers'] = srs_df['Subscribers'].apply(lambda x: x[0] if isinstance(x, list) else x)\n",
    "print(srs_df.head())\n"
   ]
  },
  {
   "cell_type": "code",
   "execution_count": 23,
   "id": "8117386c2c39c435",
   "metadata": {
    "ExecuteTime": {
     "end_time": "2024-09-29T20:02:46.199881Z",
     "start_time": "2024-09-29T20:02:46.181048Z"
    },
    "collapsed": false
   },
   "outputs": [],
   "source": [
    "srs_df.to_csv(\"subscribers_count.csv\")"
   ]
  },
  {
   "cell_type": "markdown",
   "id": "536ce1c5e2124aa5",
   "metadata": {
    "collapsed": false
   },
   "source": [
    "# Normalise Subscribers and Upvotes "
   ]
  },
  {
   "cell_type": "code",
   "execution_count": 1,
   "id": "3828c00645e5185",
   "metadata": {
    "ExecuteTime": {
     "end_time": "2024-10-01T20:03:57.074194Z",
     "start_time": "2024-10-01T20:03:57.069822Z"
    },
    "collapsed": false
   },
   "outputs": [],
   "source": [
    "import os\n",
    "import pandas as pd"
   ]
  },
  {
   "cell_type": "code",
   "execution_count": 2,
   "id": "3a1b81a5",
   "metadata": {
    "ExecuteTime": {
     "end_time": "2024-10-01T20:32:36.243824Z",
     "start_time": "2024-10-01T20:32:36.217671Z"
    }
   },
   "outputs": [
    {
     "data": {
      "text/html": [
       "<div>\n",
       "<style scoped>\n",
       "    .dataframe tbody tr th:only-of-type {\n",
       "        vertical-align: middle;\n",
       "    }\n",
       "\n",
       "    .dataframe tbody tr th {\n",
       "        vertical-align: top;\n",
       "    }\n",
       "\n",
       "    .dataframe thead th {\n",
       "        text-align: right;\n",
       "    }\n",
       "</style>\n",
       "<table border=\"1\" class=\"dataframe\">\n",
       "  <thead>\n",
       "    <tr style=\"text-align: right;\">\n",
       "      <th></th>\n",
       "      <th>Subreddit</th>\n",
       "      <th>Subscribers</th>\n",
       "    </tr>\n",
       "  </thead>\n",
       "  <tbody>\n",
       "    <tr>\n",
       "      <th>0</th>\n",
       "      <td>pakistan</td>\n",
       "      <td>295034</td>\n",
       "    </tr>\n",
       "    <tr>\n",
       "      <th>1</th>\n",
       "      <td>islamabad</td>\n",
       "      <td>103861</td>\n",
       "    </tr>\n",
       "    <tr>\n",
       "      <th>2</th>\n",
       "      <td>lahore</td>\n",
       "      <td>99509</td>\n",
       "    </tr>\n",
       "    <tr>\n",
       "      <th>3</th>\n",
       "      <td>karachi</td>\n",
       "      <td>63748</td>\n",
       "    </tr>\n",
       "    <tr>\n",
       "      <th>4</th>\n",
       "      <td>technology</td>\n",
       "      <td>17200548</td>\n",
       "    </tr>\n",
       "  </tbody>\n",
       "</table>\n",
       "</div>"
      ],
      "text/plain": [
       "    Subreddit  Subscribers\n",
       "0    pakistan       295034\n",
       "1   islamabad       103861\n",
       "2      lahore        99509\n",
       "3     karachi        63748\n",
       "4  technology     17200548"
      ]
     },
     "execution_count": 2,
     "metadata": {},
     "output_type": "execute_result"
    }
   ],
   "source": [
    "df = pd.read_csv(\"subscribers_count.csv\")\n",
    "df.drop(columns=['Unnamed: 0'], inplace=True)\n",
    "df.head()"
   ]
  },
  {
   "cell_type": "code",
   "execution_count": 5,
   "id": "3208d8f93ddb5f03",
   "metadata": {
    "collapsed": false
   },
   "outputs": [],
   "source": [
    "import os\n",
    "import pandas as pd\n",
    "\n",
    "directory = \"/home/fasih/FYP/data-tails/Backend/data/uni_pc/\"\n",
    "files = os.listdir(directory)\n",
    "\n",
    "srs = df['Subreddit'].tolist()\n",
    "max_subscribers = df['Subscribers'].max()\n",
    "min_subscribers = df['Subscribers'].min()\n",
    "\n",
    "# Initialize a list with None values\n",
    "avg_upvotes = [None] * len(df)\n",
    "\n",
    "for file in files:\n",
    "    subreddit_name = file.split('_')[0]\n",
    "    \n",
    "    if subreddit_name in srs:\n",
    "        file_path = os.path.join(directory, file)\n",
    "        temp_df = pd.read_csv(file_path)\n",
    "        \n",
    "        if 'noOfUpvotes' in temp_df.columns:\n",
    "            # Calculate the average upvotes\n",
    "            avg = temp_df['noOfUpvotes'].mean()\n",
    "            \n",
    "            # Find the index in df to update\n",
    "            idx = df.index[df['Subreddit'] == subreddit_name].tolist()\n",
    "            if idx:  # Check if the subreddit exists in df\n",
    "                avg_upvotes[idx[0]] = avg  # Update the first occurrence\n",
    "            \n",
    "# Assign the computed averages to the DataFrame\n",
    "df['Avg_Upvotes'] = avg_upvotes\n",
    "\n",
    "# Now you can calculate max and min upvotes\n",
    "max_upvotes = df['Avg_Upvotes'].max()\n",
    "min_upvotes = df['Avg_Upvotes'].min()\n"
   ]
  },
  {
   "cell_type": "code",
   "execution_count": 6,
   "id": "0a8f7302",
   "metadata": {},
   "outputs": [
    {
     "data": {
      "text/html": [
       "<div>\n",
       "<style scoped>\n",
       "    .dataframe tbody tr th:only-of-type {\n",
       "        vertical-align: middle;\n",
       "    }\n",
       "\n",
       "    .dataframe tbody tr th {\n",
       "        vertical-align: top;\n",
       "    }\n",
       "\n",
       "    .dataframe thead th {\n",
       "        text-align: right;\n",
       "    }\n",
       "</style>\n",
       "<table border=\"1\" class=\"dataframe\">\n",
       "  <thead>\n",
       "    <tr style=\"text-align: right;\">\n",
       "      <th></th>\n",
       "      <th>Subreddit</th>\n",
       "      <th>Subscribers</th>\n",
       "      <th>Avg_Upvotes</th>\n",
       "    </tr>\n",
       "  </thead>\n",
       "  <tbody>\n",
       "    <tr>\n",
       "      <th>0</th>\n",
       "      <td>pakistan</td>\n",
       "      <td>295034</td>\n",
       "      <td>682.908726</td>\n",
       "    </tr>\n",
       "    <tr>\n",
       "      <th>1</th>\n",
       "      <td>islamabad</td>\n",
       "      <td>103861</td>\n",
       "      <td>20.336488</td>\n",
       "    </tr>\n",
       "    <tr>\n",
       "      <th>2</th>\n",
       "      <td>lahore</td>\n",
       "      <td>99509</td>\n",
       "      <td>13.495726</td>\n",
       "    </tr>\n",
       "    <tr>\n",
       "      <th>3</th>\n",
       "      <td>karachi</td>\n",
       "      <td>63748</td>\n",
       "      <td>18.832402</td>\n",
       "    </tr>\n",
       "    <tr>\n",
       "      <th>4</th>\n",
       "      <td>technology</td>\n",
       "      <td>17200548</td>\n",
       "      <td>1682.754286</td>\n",
       "    </tr>\n",
       "    <tr>\n",
       "      <th>5</th>\n",
       "      <td>tech</td>\n",
       "      <td>651583</td>\n",
       "      <td>5353.941810</td>\n",
       "    </tr>\n",
       "    <tr>\n",
       "      <th>6</th>\n",
       "      <td>technews</td>\n",
       "      <td>886447</td>\n",
       "      <td>411.372236</td>\n",
       "    </tr>\n",
       "    <tr>\n",
       "      <th>7</th>\n",
       "      <td>news</td>\n",
       "      <td>28691376</td>\n",
       "      <td>87976.984940</td>\n",
       "    </tr>\n",
       "    <tr>\n",
       "      <th>8</th>\n",
       "      <td>worldnews</td>\n",
       "      <td>40918537</td>\n",
       "      <td>1744.348534</td>\n",
       "    </tr>\n",
       "    <tr>\n",
       "      <th>9</th>\n",
       "      <td>sports</td>\n",
       "      <td>21291060</td>\n",
       "      <td>1883.775510</td>\n",
       "    </tr>\n",
       "  </tbody>\n",
       "</table>\n",
       "</div>"
      ],
      "text/plain": [
       "    Subreddit  Subscribers   Avg_Upvotes\n",
       "0    pakistan       295034    682.908726\n",
       "1   islamabad       103861     20.336488\n",
       "2      lahore        99509     13.495726\n",
       "3     karachi        63748     18.832402\n",
       "4  technology     17200548   1682.754286\n",
       "5        tech       651583   5353.941810\n",
       "6    technews       886447    411.372236\n",
       "7        news     28691376  87976.984940\n",
       "8   worldnews     40918537   1744.348534\n",
       "9      sports     21291060   1883.775510"
      ]
     },
     "execution_count": 6,
     "metadata": {},
     "output_type": "execute_result"
    }
   ],
   "source": [
    "df.head(10)"
   ]
  },
  {
   "cell_type": "code",
   "execution_count": 7,
   "id": "805c26a39af2bb1c",
   "metadata": {
    "collapsed": false
   },
   "outputs": [
    {
     "name": "stdout",
     "output_type": "stream",
     "text": [
      "    Subreddit  Subscribers  Avg_Upvotes  Normalized Upvotes  Normalized Subs\n",
      "0    pakistan       295034   682.908726            0.007663         0.005979\n",
      "1   islamabad       103861    20.336488            0.000206         0.002039\n",
      "2      lahore        99509    13.495726            0.000129         0.001949\n",
      "3     karachi        63748    18.832402            0.000189         0.001212\n",
      "4  technology     17200548  1682.754286            0.018915         0.354458\n"
     ]
    }
   ],
   "source": [
    "df['Normalized Upvotes'] = (df['Avg_Upvotes'] - min_upvotes) / (max_upvotes - min_upvotes)\n",
    "df['Normalized Subs'] = (df['Subscribers'] - min_subscribers) / (max_subscribers - min_subscribers)\n",
    "\n",
    "print(df.head(5))"
   ]
  },
  {
   "cell_type": "markdown",
   "id": "8dd1283b5a730797",
   "metadata": {
    "collapsed": false
   },
   "source": [
    "# Calculating Score for each Subreddit using Weighted Scoring method"
   ]
  },
  {
   "cell_type": "code",
   "execution_count": 8,
   "id": "1628e90577083036",
   "metadata": {
    "collapsed": false
   },
   "outputs": [
    {
     "name": "stdout",
     "output_type": "stream",
     "text": [
      "    Subreddit  Subscribers  Avg_Upvotes  Normalized Upvotes  Normalized Subs  \\\n",
      "0    pakistan       295034   682.908726            0.007663         0.005979   \n",
      "1   islamabad       103861    20.336488            0.000206         0.002039   \n",
      "2      lahore        99509    13.495726            0.000129         0.001949   \n",
      "3     karachi        63748    18.832402            0.000189         0.001212   \n",
      "4  technology     17200548  1682.754286            0.018915         0.354458   \n",
      "\n",
      "     Scores  \n",
      "0  0.006821  \n",
      "1  0.001123  \n",
      "2  0.001039  \n",
      "3  0.000701  \n",
      "4  0.186686  \n"
     ]
    }
   ],
   "source": [
    "w1 = 0.5\n",
    "w2 = 0.5\n",
    "df['Scores'] = (w1 * df['Normalized Subs']) + (w2 * df['Normalized Upvotes'])\n",
    "\n",
    "print(df.head(5))"
   ]
  },
  {
   "cell_type": "code",
   "execution_count": 10,
   "id": "f267285d",
   "metadata": {},
   "outputs": [
    {
     "name": "stdout",
     "output_type": "stream",
     "text": [
      "0.9061536227325631\n",
      "5.3257713113794884e-05\n"
     ]
    }
   ],
   "source": [
    "print(df['Scores'].max())\n",
    "print(df['Scores'].min())"
   ]
  },
  {
   "cell_type": "code",
   "execution_count": 12,
   "id": "1b0bbc21ea8675b0",
   "metadata": {
    "collapsed": false
   },
   "outputs": [],
   "source": [
    "df.to_csv(\"subreddit_scores.csv\", sep=',', encoding='utf-8')"
   ]
  },
  {
   "cell_type": "markdown",
   "id": "6bb6aefac290f53",
   "metadata": {
    "collapsed": false
   },
   "source": [
    "# Making a Visualisation of the Scores for each Subreddit"
   ]
  },
  {
   "cell_type": "code",
   "execution_count": 14,
   "id": "8113cdf5ef774bb8",
   "metadata": {
    "ExecuteTime": {
     "end_time": "2024-10-01T20:45:56.287915Z",
     "start_time": "2024-10-01T20:45:51.872769Z"
    },
    "collapsed": false
   },
   "outputs": [],
   "source": [
    "import matplotlib.pyplot as plt\n",
    "import seaborn as sns"
   ]
  },
  {
   "cell_type": "code",
   "execution_count": 30,
   "id": "4beb5b0a81ae7f7f",
   "metadata": {
    "ExecuteTime": {
     "end_time": "2024-10-01T20:45:58.819622Z",
     "start_time": "2024-10-01T20:45:58.052456Z"
    },
    "collapsed": false
   },
   "outputs": [
    {
     "name": "stderr",
     "output_type": "stream",
     "text": [
      "/tmp/ipykernel_8470/2873225783.py:9: UserWarning: FigureCanvasAgg is non-interactive, and thus cannot be shown\n",
      "  plt.show()\n"
     ]
    }
   ],
   "source": [
    "plt.figure(figsize=(30, 6))  # Set the figure size\n",
    "plt.bar(df['Subreddit'], df['Scores'], color='skyblue')  # Create the bar chart\n",
    "\n",
    "plt.title('Scores by Subreddit')  # Title of the chart\n",
    "plt.xlabel('Subreddits')  # X-axis label\n",
    "plt.ylabel('Scores')  # Y-axis label\n",
    "plt.xticks(rotation=45)  # Rotate x-axis labels for better visibility\n",
    "plt.tight_layout()  # Adjust layout to make room for rotated labels\n",
    "plt.show()\n",
    "\n",
    "plt.savefig('/home/fasih/FYP/data-tails/Backend/data/bar_chart.png', format='png', dpi=300)  # dpi controls the resolution\n",
    "plt.close()"
   ]
  },
  {
   "cell_type": "code",
   "execution_count": 31,
   "id": "d7d91fe7f3fe7995",
   "metadata": {
    "collapsed": false
   },
   "outputs": [
    {
     "name": "stderr",
     "output_type": "stream",
     "text": [
      "/tmp/ipykernel_8470/2745116432.py:13: UserWarning: FigureCanvasAgg is non-interactive, and thus cannot be shown\n",
      "  plt.show()  # Display the chart\n"
     ]
    }
   ],
   "source": [
    "plt.figure(figsize=(30, 6))  # Set the figure size\n",
    "\n",
    "    # Create scatter plot\n",
    "plt.scatter(df['Subreddit'], df['Scores'], color='orange', s=100)  # s controls the size of the points\n",
    "\n",
    "plt.title('Scores by Subreddit')  # Title of the chart\n",
    "plt.xlabel('Subreddits')  # X-axis label\n",
    "plt.ylabel('Scores')  # Y-axis label\n",
    "plt.xticks(rotation=45)  # Rotate x-axis labels for better visibility\n",
    "plt.tight_layout()  # Adjust layout to make room for rotated labels\n",
    "\n",
    "plt.grid(True)  # Add grid for better readability\n",
    "plt.show()  # Display the chart\n",
    "\n",
    "plt.savefig('/home/fasih/FYP/data-tails/Backend/data/scatter_plot.png', format='png', dpi=300)  # dpi controls the resolution\n",
    "plt.close()"
   ]
  },
  {
   "cell_type": "code",
   "execution_count": 26,
   "id": "daaca126",
   "metadata": {},
   "outputs": [],
   "source": [
    "import matplotlib\n",
    "matplotlib.use('Agg')"
   ]
  },
  {
   "cell_type": "code",
   "execution_count": 28,
   "id": "dbe0ac24a3765b2a",
   "metadata": {
    "ExecuteTime": {
     "end_time": "2024-10-01T20:45:47.101137Z",
     "start_time": "2024-10-01T20:45:47.076416Z"
    },
    "collapsed": false
   },
   "outputs": [
    {
     "name": "stdout",
     "output_type": "stream",
     "text": [
      "Plot saved as 'box_plot.png'\n"
     ]
    }
   ],
   "source": [
    "# plt.figure(figsize=(8, 6))  # Set the figure size\n",
    "\n",
    "#     # Create the box plot\n",
    "# plt.boxplot(df['Scores'], patch_artist=True)\n",
    "\n",
    "#     # Set title and labels\n",
    "# plt.title('Box Plot of Scores')\n",
    "# plt.ylabel('Scores')\n",
    "\n",
    "# plt.xticks([1], ['Scores'])  # Set x-axis tick label\n",
    "\n",
    "# plt.grid(axis='y')  # Add grid lines for better readability\n",
    "# plt.savefig('box_plot.png')  # Save the plot as a PNG file\n",
    "# print(\"Plot saved as 'box_plot.png'\")\n",
    "\n",
    "# # plt.savefig('/home/fasih/FYP/data-tails/Backend/data/box_plot.png', format='png', dpi=300)  # dpi controls the resolution\n",
    "# plt.close()"
   ]
  },
  {
   "cell_type": "code",
   "execution_count": 33,
   "id": "780f0887b977bc8f",
   "metadata": {
    "collapsed": false
   },
   "outputs": [
    {
     "name": "stderr",
     "output_type": "stream",
     "text": [
      "/tmp/ipykernel_8470/1107945206.py:16: UserWarning: FigureCanvasAgg is non-interactive, and thus cannot be shown\n",
      "  plt.show()  # Display the plot\n"
     ]
    }
   ],
   "source": [
    "score_counts = df['Scores'].value_counts().sort_index()\n",
    "\n",
    "plt.figure(figsize=(30, 6))  # Set the figure size\n",
    "\n",
    "# Create a bar plot for the long-tail distribution\n",
    "plt.bar(score_counts.index, score_counts.values, color='lightblue', alpha=0.7)\n",
    "\n",
    "    # Set title and labels\n",
    "plt.title('Long-Tail Distribution of Scores')\n",
    "plt.xlabel('Scores')\n",
    "plt.ylabel('Frequency')\n",
    "\n",
    "plt.xticks(score_counts.index)  # Set x-axis tick labels to the score values\n",
    "plt.grid(axis='y')  # Add grid lines for better readability\n",
    "plt.yscale('log')  # Use a logarithmic scale for better visualization of the long tail\n",
    "plt.show()  # Display the plot\n",
    "\n",
    "plt.savefig('/home/fasih/FYP/data-tails/Backend/data/longtail.png', format='png', dpi=300)  # dpi controls the resolution\n",
    "plt.close()"
   ]
  }
 ],
 "metadata": {
  "kernelspec": {
   "display_name": "Python 3",
   "language": "python",
   "name": "python3"
  },
  "language_info": {
   "codemirror_mode": {
    "name": "ipython",
    "version": 3
   },
   "file_extension": ".py",
   "mimetype": "text/x-python",
   "name": "python",
   "nbconvert_exporter": "python",
   "pygments_lexer": "ipython3",
   "version": "3.10.12"
  }
 },
 "nbformat": 4,
 "nbformat_minor": 5
}
