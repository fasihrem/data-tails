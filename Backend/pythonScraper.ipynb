{
 "cells": [
  {
   "cell_type": "code",
   "execution_count": 3,
   "id": "initial_id",
   "metadata": {
    "collapsed": true,
    "ExecuteTime": {
     "end_time": "2024-08-01T17:39:10.331840Z",
     "start_time": "2024-08-01T17:39:10.316112Z"
    }
   },
   "outputs": [],
   "source": [
    "import praw"
   ]
  },
  {
   "cell_type": "code",
   "outputs": [
    {
     "name": "stdout",
     "output_type": "stream",
     "text": [
      "True\n"
     ]
    }
   ],
   "source": [
    "reddit = praw.Reddit(client_id='P4-FFLW065bTLnGSqfCnlg', client_secret='-EBrPckd7kwt0b8OaxJ-5cfwYRExQw', user_agent='MyRedditScraper/1.0 (Macintosh; Intel Mac OS X 14.3.1; Apple Silicon) Python/3.10 (fasihrem@gmail.com)')\n",
    "\n",
    "print(reddit.read_only)"
   ],
   "metadata": {
    "collapsed": false,
    "ExecuteTime": {
     "end_time": "2024-08-01T17:52:34.324918Z",
     "start_time": "2024-08-01T17:52:34.290928Z"
    }
   },
   "id": "57074fc4b1fe1c0a",
   "execution_count": 7
  },
  {
   "cell_type": "code",
   "outputs": [
    {
     "name": "stdout",
     "output_type": "stream",
     "text": [
      "Some test commands\n",
      "Keep getting flagged by reddit's filter, this is a test.\n",
      "test post\n",
      "test post\n",
      "H\n",
      "Hailey\n",
      "Test\n",
      "Your Post for reddit\n",
      "What He Did to Her Was Beyond Barbaric | The Heartbreaking Case of Leesa Marie Gray\n",
      "test\n"
     ]
    }
   ],
   "source": [
    "for submission in reddit.subreddit(\"test\").hot(limit=10):\n",
    "    print(submission.title)"
   ],
   "metadata": {
    "collapsed": false,
    "ExecuteTime": {
     "end_time": "2024-08-01T18:15:17.136949Z",
     "start_time": "2024-08-01T18:15:16.103625Z"
    }
   },
   "id": "6264312d9830ad80",
   "execution_count": 9
  },
  {
   "cell_type": "code",
   "outputs": [],
   "source": [],
   "metadata": {
    "collapsed": false
   },
   "id": "8495b6093380bf42"
  }
 ],
 "metadata": {
  "kernelspec": {
   "display_name": "Python 3",
   "language": "python",
   "name": "python3"
  },
  "language_info": {
   "codemirror_mode": {
    "name": "ipython",
    "version": 2
   },
   "file_extension": ".py",
   "mimetype": "text/x-python",
   "name": "python",
   "nbconvert_exporter": "python",
   "pygments_lexer": "ipython2",
   "version": "2.7.6"
  }
 },
 "nbformat": 4,
 "nbformat_minor": 5
}
